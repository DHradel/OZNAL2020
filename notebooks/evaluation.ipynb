{
 "cells": [
  {
   "cell_type": "code",
   "execution_count": null,
   "metadata": {},
   "outputs": [],
   "source": [
    "import pandas as pd\n",
    "import numpy as np\n",
    "import pickle\n",
    "import matplotlib.pyplot as plt\n",
    "from sklearn.metrics import confusion_matrix, classification_report"
   ]
  },
  {
   "cell_type": "code",
   "execution_count": null,
   "metadata": {},
   "outputs": [],
   "source": [
    "y_true = pd.read_csv(\"y_test.csv\", header=None, index_col=0, squeeze=True)\n",
    "y_pred = pickle.load( open( \"decision_tree/1/predictions.p\", \"rb\" ) )\n",
    "model = pickle.load( open( \"decision_tree/1/grid_search.p\", \"rb\" ) )\n",
    "results = model.cv_results_"
   ]
  },
  {
   "cell_type": "code",
   "execution_count": null,
   "metadata": {},
   "outputs": [],
   "source": [
    "def show_model_results(y_true, y_pred):\n",
    "    \n",
    "    classes = ['not_canceled', 'canceled']\n",
    "    print(classification_report(y_true, y_pred, digits = 3))\n",
    "    cm = confusion_matrix(y_true, y_pred)\n",
    "    print('\\ntrue positive', cm[0][0])\n",
    "    print('true negative', cm[1][1])\n",
    "    print('false positive', cm[1][0])\n",
    "    print('false negative', cm[0][1])\n",
    "\n",
    "    cm = cm.astype('float') / cm.sum(axis=1)[:, np.newaxis]\n",
    "    \n",
    "    fig, ax = plt.subplots()\n",
    "    im = ax.imshow(cm, interpolation='nearest', cmap=plt.cm.Dark2)\n",
    "    ax.figure.colorbar(im, ax=ax)\n",
    "    \n",
    "    ax.set(xticks=np.arange(cm.shape[1]),\n",
    "       yticks=np.arange(cm.shape[0]),\n",
    "       xticklabels=classes, yticklabels=classes,\n",
    "       title='Normalizovaná matica zámien',\n",
    "       ylabel='Skutočné označenie',\n",
    "       xlabel='Predikované označenie')\n",
    "    \n",
    "    plt.setp(ax.get_xticklabels(), rotation=45, ha=\"right\",\n",
    "             rotation_mode=\"anchor\")\n",
    "\n",
    "    thresh = cm.max() / 2.\n",
    "    for i in range(cm.shape[0]):\n",
    "        for j in range(cm.shape[1]):\n",
    "            ax.text(j, i, format(cm[i, j], '.3f'),\n",
    "                    ha=\"center\", va=\"center\",\n",
    "                    color=\"white\" if cm[i, j] > thresh else \"black\")\n",
    "    fig.tight_layout()\n",
    "    plt.show()"
   ]
  },
  {
   "cell_type": "code",
   "execution_count": null,
   "metadata": {},
   "outputs": [],
   "source": [
    "def metrics_result(metric):\n",
    "    best_index = np.nonzero(results['rank_test_%s' % metric] == 1)[0][0]\n",
    "    best_score = results['mean_test_%s' % metric][best_index]\n",
    "    params = results['params'][best_index]\n",
    "    print(params)\n",
    "    print(\"Ostatné metriky modelu, kde hodnota metriky \" + metric + \" nadobúdala najvyššiu validačnú hodnotu:\" )\n",
    "    print(best_score)\n",
    "    for scorer in scoring:\n",
    "        score = results['mean_test_%s' % scorer][best_index]\n",
    "        print(scorer + ' : ' + str(score))"
   ]
  },
  {
   "cell_type": "code",
   "execution_count": null,
   "metadata": {},
   "outputs": [],
   "source": [
    "metrics_result('f1')"
   ]
  },
  {
   "cell_type": "code",
   "execution_count": null,
   "metadata": {},
   "outputs": [],
   "source": [
    "show_model_results(y_true, y_pred)"
   ]
  }
 ],
 "metadata": {
  "kernelspec": {
   "display_name": "Python 3",
   "language": "python",
   "name": "python3"
  },
  "language_info": {
   "codemirror_mode": {
    "name": "ipython",
    "version": 3
   },
   "file_extension": ".py",
   "mimetype": "text/x-python",
   "name": "python",
   "nbconvert_exporter": "python",
   "pygments_lexer": "ipython3",
   "version": "3.6.9"
  }
 },
 "nbformat": 4,
 "nbformat_minor": 4
}
