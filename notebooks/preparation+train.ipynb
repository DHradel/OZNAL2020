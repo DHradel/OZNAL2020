{
 "cells": [
  {
   "cell_type": "code",
   "execution_count": 36,
   "metadata": {},
   "outputs": [],
   "source": [
    "import pandas as pd\n",
    "import numpy as np\n",
    "import calendar\n",
    "import matplotlib.pyplot as plt\n",
    "from sklearn.feature_selection import SelectFromModel\n",
    "from sklearn.preprocessing import OneHotEncoder\n",
    "%matplotlib inline\n",
    "\n",
    "from sklearn.neighbors import KNeighborsClassifier\n",
    "from sklearn.metrics import f1_score, accuracy_score, precision_score, recall_score, confusion_matrix, classification_report\n",
    "from sklearn.tree import DecisionTreeClassifier\n",
    "\n",
    "from sklearn.model_selection import GridSearchCV, train_test_split\n",
    "from sklearn.metrics import make_scorer"
   ]
  },
  {
   "cell_type": "code",
   "execution_count": 38,
   "metadata": {
    "pycharm": {
     "name": "#%%\n"
    }
   },
   "outputs": [
    {
     "data": {
      "text/html": [
       "<div>\n",
       "<style scoped>\n",
       "    .dataframe tbody tr th:only-of-type {\n",
       "        vertical-align: middle;\n",
       "    }\n",
       "\n",
       "    .dataframe tbody tr th {\n",
       "        vertical-align: top;\n",
       "    }\n",
       "\n",
       "    .dataframe thead th {\n",
       "        text-align: right;\n",
       "    }\n",
       "</style>\n",
       "<table border=\"1\" class=\"dataframe\">\n",
       "  <thead>\n",
       "    <tr style=\"text-align: right;\">\n",
       "      <th></th>\n",
       "      <th>hotel</th>\n",
       "      <th>is_canceled</th>\n",
       "      <th>lead_time</th>\n",
       "      <th>arrival_date_year</th>\n",
       "      <th>arrival_date_month</th>\n",
       "      <th>arrival_date_week_number</th>\n",
       "      <th>arrival_date_day_of_month</th>\n",
       "      <th>stays_in_weekend_nights</th>\n",
       "      <th>stays_in_week_nights</th>\n",
       "      <th>adults</th>\n",
       "      <th>children</th>\n",
       "      <th>babies</th>\n",
       "      <th>meal</th>\n",
       "      <th>country</th>\n",
       "      <th>market_segment</th>\n",
       "      <th>distribution_channel</th>\n",
       "      <th>is_repeated_guest</th>\n",
       "      <th>previous_cancellations</th>\n",
       "      <th>previous_bookings_not_canceled</th>\n",
       "      <th>reserved_room_type</th>\n",
       "      <th>assigned_room_type</th>\n",
       "      <th>booking_changes</th>\n",
       "      <th>deposit_type</th>\n",
       "      <th>agent</th>\n",
       "      <th>company</th>\n",
       "      <th>days_in_waiting_list</th>\n",
       "      <th>customer_type</th>\n",
       "      <th>adr</th>\n",
       "      <th>required_car_parking_spaces</th>\n",
       "      <th>total_of_special_requests</th>\n",
       "      <th>reservation_status</th>\n",
       "      <th>reservation_status_date</th>\n",
       "    </tr>\n",
       "  </thead>\n",
       "  <tbody>\n",
       "    <tr>\n",
       "      <th>0</th>\n",
       "      <td>Resort Hotel</td>\n",
       "      <td>0</td>\n",
       "      <td>342</td>\n",
       "      <td>2015</td>\n",
       "      <td>July</td>\n",
       "      <td>27</td>\n",
       "      <td>1</td>\n",
       "      <td>0</td>\n",
       "      <td>0</td>\n",
       "      <td>2</td>\n",
       "      <td>0.0</td>\n",
       "      <td>0</td>\n",
       "      <td>BB</td>\n",
       "      <td>PRT</td>\n",
       "      <td>Direct</td>\n",
       "      <td>Direct</td>\n",
       "      <td>0</td>\n",
       "      <td>0</td>\n",
       "      <td>0</td>\n",
       "      <td>C</td>\n",
       "      <td>C</td>\n",
       "      <td>3</td>\n",
       "      <td>No Deposit</td>\n",
       "      <td>NaN</td>\n",
       "      <td>NaN</td>\n",
       "      <td>0</td>\n",
       "      <td>Transient</td>\n",
       "      <td>0.0</td>\n",
       "      <td>0</td>\n",
       "      <td>0</td>\n",
       "      <td>Check-Out</td>\n",
       "      <td>2015-07-01</td>\n",
       "    </tr>\n",
       "    <tr>\n",
       "      <th>1</th>\n",
       "      <td>Resort Hotel</td>\n",
       "      <td>0</td>\n",
       "      <td>737</td>\n",
       "      <td>2015</td>\n",
       "      <td>July</td>\n",
       "      <td>27</td>\n",
       "      <td>1</td>\n",
       "      <td>0</td>\n",
       "      <td>0</td>\n",
       "      <td>2</td>\n",
       "      <td>0.0</td>\n",
       "      <td>0</td>\n",
       "      <td>BB</td>\n",
       "      <td>PRT</td>\n",
       "      <td>Direct</td>\n",
       "      <td>Direct</td>\n",
       "      <td>0</td>\n",
       "      <td>0</td>\n",
       "      <td>0</td>\n",
       "      <td>C</td>\n",
       "      <td>C</td>\n",
       "      <td>4</td>\n",
       "      <td>No Deposit</td>\n",
       "      <td>NaN</td>\n",
       "      <td>NaN</td>\n",
       "      <td>0</td>\n",
       "      <td>Transient</td>\n",
       "      <td>0.0</td>\n",
       "      <td>0</td>\n",
       "      <td>0</td>\n",
       "      <td>Check-Out</td>\n",
       "      <td>2015-07-01</td>\n",
       "    </tr>\n",
       "    <tr>\n",
       "      <th>2</th>\n",
       "      <td>Resort Hotel</td>\n",
       "      <td>0</td>\n",
       "      <td>7</td>\n",
       "      <td>2015</td>\n",
       "      <td>July</td>\n",
       "      <td>27</td>\n",
       "      <td>1</td>\n",
       "      <td>0</td>\n",
       "      <td>1</td>\n",
       "      <td>1</td>\n",
       "      <td>0.0</td>\n",
       "      <td>0</td>\n",
       "      <td>BB</td>\n",
       "      <td>GBR</td>\n",
       "      <td>Direct</td>\n",
       "      <td>Direct</td>\n",
       "      <td>0</td>\n",
       "      <td>0</td>\n",
       "      <td>0</td>\n",
       "      <td>A</td>\n",
       "      <td>C</td>\n",
       "      <td>0</td>\n",
       "      <td>No Deposit</td>\n",
       "      <td>NaN</td>\n",
       "      <td>NaN</td>\n",
       "      <td>0</td>\n",
       "      <td>Transient</td>\n",
       "      <td>75.0</td>\n",
       "      <td>0</td>\n",
       "      <td>0</td>\n",
       "      <td>Check-Out</td>\n",
       "      <td>2015-07-02</td>\n",
       "    </tr>\n",
       "    <tr>\n",
       "      <th>3</th>\n",
       "      <td>Resort Hotel</td>\n",
       "      <td>0</td>\n",
       "      <td>13</td>\n",
       "      <td>2015</td>\n",
       "      <td>July</td>\n",
       "      <td>27</td>\n",
       "      <td>1</td>\n",
       "      <td>0</td>\n",
       "      <td>1</td>\n",
       "      <td>1</td>\n",
       "      <td>0.0</td>\n",
       "      <td>0</td>\n",
       "      <td>BB</td>\n",
       "      <td>GBR</td>\n",
       "      <td>Corporate</td>\n",
       "      <td>Corporate</td>\n",
       "      <td>0</td>\n",
       "      <td>0</td>\n",
       "      <td>0</td>\n",
       "      <td>A</td>\n",
       "      <td>A</td>\n",
       "      <td>0</td>\n",
       "      <td>No Deposit</td>\n",
       "      <td>304.0</td>\n",
       "      <td>NaN</td>\n",
       "      <td>0</td>\n",
       "      <td>Transient</td>\n",
       "      <td>75.0</td>\n",
       "      <td>0</td>\n",
       "      <td>0</td>\n",
       "      <td>Check-Out</td>\n",
       "      <td>2015-07-02</td>\n",
       "    </tr>\n",
       "    <tr>\n",
       "      <th>4</th>\n",
       "      <td>Resort Hotel</td>\n",
       "      <td>0</td>\n",
       "      <td>14</td>\n",
       "      <td>2015</td>\n",
       "      <td>July</td>\n",
       "      <td>27</td>\n",
       "      <td>1</td>\n",
       "      <td>0</td>\n",
       "      <td>2</td>\n",
       "      <td>2</td>\n",
       "      <td>0.0</td>\n",
       "      <td>0</td>\n",
       "      <td>BB</td>\n",
       "      <td>GBR</td>\n",
       "      <td>Online TA</td>\n",
       "      <td>TA/TO</td>\n",
       "      <td>0</td>\n",
       "      <td>0</td>\n",
       "      <td>0</td>\n",
       "      <td>A</td>\n",
       "      <td>A</td>\n",
       "      <td>0</td>\n",
       "      <td>No Deposit</td>\n",
       "      <td>240.0</td>\n",
       "      <td>NaN</td>\n",
       "      <td>0</td>\n",
       "      <td>Transient</td>\n",
       "      <td>98.0</td>\n",
       "      <td>0</td>\n",
       "      <td>1</td>\n",
       "      <td>Check-Out</td>\n",
       "      <td>2015-07-03</td>\n",
       "    </tr>\n",
       "  </tbody>\n",
       "</table>\n",
       "</div>"
      ],
      "text/plain": [
       "          hotel  is_canceled  lead_time  arrival_date_year arrival_date_month  \\\n",
       "0  Resort Hotel            0        342               2015               July   \n",
       "1  Resort Hotel            0        737               2015               July   \n",
       "2  Resort Hotel            0          7               2015               July   \n",
       "3  Resort Hotel            0         13               2015               July   \n",
       "4  Resort Hotel            0         14               2015               July   \n",
       "\n",
       "   arrival_date_week_number  arrival_date_day_of_month  \\\n",
       "0                        27                          1   \n",
       "1                        27                          1   \n",
       "2                        27                          1   \n",
       "3                        27                          1   \n",
       "4                        27                          1   \n",
       "\n",
       "   stays_in_weekend_nights  stays_in_week_nights  adults  children  babies  \\\n",
       "0                        0                     0       2       0.0       0   \n",
       "1                        0                     0       2       0.0       0   \n",
       "2                        0                     1       1       0.0       0   \n",
       "3                        0                     1       1       0.0       0   \n",
       "4                        0                     2       2       0.0       0   \n",
       "\n",
       "  meal country market_segment distribution_channel  is_repeated_guest  \\\n",
       "0   BB     PRT         Direct               Direct                  0   \n",
       "1   BB     PRT         Direct               Direct                  0   \n",
       "2   BB     GBR         Direct               Direct                  0   \n",
       "3   BB     GBR      Corporate            Corporate                  0   \n",
       "4   BB     GBR      Online TA                TA/TO                  0   \n",
       "\n",
       "   previous_cancellations  previous_bookings_not_canceled reserved_room_type  \\\n",
       "0                       0                               0                  C   \n",
       "1                       0                               0                  C   \n",
       "2                       0                               0                  A   \n",
       "3                       0                               0                  A   \n",
       "4                       0                               0                  A   \n",
       "\n",
       "  assigned_room_type  booking_changes deposit_type  agent  company  \\\n",
       "0                  C                3   No Deposit    NaN      NaN   \n",
       "1                  C                4   No Deposit    NaN      NaN   \n",
       "2                  C                0   No Deposit    NaN      NaN   \n",
       "3                  A                0   No Deposit  304.0      NaN   \n",
       "4                  A                0   No Deposit  240.0      NaN   \n",
       "\n",
       "   days_in_waiting_list customer_type   adr  required_car_parking_spaces  \\\n",
       "0                     0     Transient   0.0                            0   \n",
       "1                     0     Transient   0.0                            0   \n",
       "2                     0     Transient  75.0                            0   \n",
       "3                     0     Transient  75.0                            0   \n",
       "4                     0     Transient  98.0                            0   \n",
       "\n",
       "   total_of_special_requests reservation_status reservation_status_date  \n",
       "0                          0          Check-Out              2015-07-01  \n",
       "1                          0          Check-Out              2015-07-01  \n",
       "2                          0          Check-Out              2015-07-02  \n",
       "3                          0          Check-Out              2015-07-02  \n",
       "4                          1          Check-Out              2015-07-03  "
      ]
     },
     "execution_count": 38,
     "metadata": {},
     "output_type": "execute_result"
    }
   ],
   "source": [
    "df_bookings = pd.read_csv(\"data/hotel_bookings.csv\")\n",
    "pd.set_option('display.max_columns', None)\n",
    "df_bookings.head()"
   ]
  },
  {
   "cell_type": "code",
   "execution_count": 39,
   "metadata": {
    "pycharm": {
     "name": "#%%\n"
    }
   },
   "outputs": [],
   "source": [
    "cat_columns = ['hotel', 'is_canceled',\n",
    "       'arrival_date_month', 'meal',\n",
    "       'country', 'market_segment', 'distribution_channel',\n",
    "       'is_repeated_guest', 'reserved_room_type',\n",
    "       'assigned_room_type', 'deposit_type', 'agent',\n",
    "       'company', 'customer_type',\n",
    "       'arrival_date_year',\n",
    "       'arrival_date_week_number',\n",
    "       'arrival_date_day_of_month']\n",
    "\n",
    "encoded_cat_columns = [col for col in cat_columns if col not in {'company', 'agent', 'is_canceled'}]\n",
    "\n",
    "num_columns = ['lead_time', 'stays_in_weekend_nights',\n",
    "       'stays_in_week_nights', 'adults', 'children', 'babies', 'previous_cancellations',\n",
    "       'previous_bookings_not_canceled', 'booking_changes', 'days_in_waiting_list', 'adr',\n",
    "       'required_car_parking_spaces', 'total_of_special_requests']\n"
   ]
  },
  {
   "cell_type": "markdown",
   "metadata": {},
   "source": [
    "## Rozdelenie datasetu\n",
    "\n",
    "Dataset rozdelime na trenovaciu a testovaciu cast v pomere 70:30."
   ]
  },
  {
   "cell_type": "code",
   "execution_count": 40,
   "metadata": {
    "pycharm": {
     "name": "#%%\n"
    }
   },
   "outputs": [],
   "source": [
    "df_train, df_test = train_test_split(df_bookings, test_size=0.3)\n",
    "df_train.reset_index(drop=True, inplace=True)\n",
    "df_test.reset_index(drop=True, inplace=True)"
   ]
  },
  {
   "cell_type": "markdown",
   "metadata": {},
   "source": [
    "## Odstranenie reservation_status\n",
    "\n",
    "Atribut reservation status vyjadruje status rezervacie, a to bud \"Check-Out\", \"Cancelled\" alebo \"Waiting\".\n",
    "Na zaklade jeho hodnoty vieme s urcitostou povedat, ci bola rezervacia zrusena, preto je potrebne ho z datasetu odstranit.\n",
    "Predikovat budeme hodnotu atributu \"is_canceled\", ktory binarne vyjadruje zrusenie rezervacie."
   ]
  },
  {
   "cell_type": "code",
   "execution_count": 41,
   "metadata": {
    "pycharm": {
     "name": "#%%\n"
    }
   },
   "outputs": [],
   "source": [
    "def drop_reservation_status(df):\n",
    "    return df.drop(columns=['reservation_status'])"
   ]
  },
  {
   "cell_type": "markdown",
   "metadata": {
    "pycharm": {
     "name": "#%% md\n"
    }
   },
   "source": [
    "## Nahradenie chybajucich hodnot\n",
    "\n",
    "Na zaklade analyzy sme identifikovali 4 stlpce s chybajucimi hodnotami, a to “children”, “country”, “company” a “agent”.\n",
    "V prípade stĺpca “children” nahradime chýbajúce hodnoty najčastejšou hodnotou (0).\n",
    "V prípade stlpca “country” nahradime chýbajúce hodnoty hodnotou “other”.\n",
    "V prípade stlpcov “company” a \"agent\" nahradime chýbajúce hodnoty hodnotou 0, nakolko sa v tychto stlpcoch nachadzaju\n",
    "id spolocnosti/agentov a hodnota 0 sa v nich nevyskytuje, preto bude toto cislo reprezentovat nezname spolocnosti/agentov."
   ]
  },
  {
   "cell_type": "code",
   "execution_count": 42,
   "metadata": {
    "pycharm": {
     "name": "#%%\n"
    }
   },
   "outputs": [],
   "source": [
    "def get_missing_value_replacer(df):\n",
    "    return {\n",
    "        'children': df['children'].value_counts().idxmax(),\n",
    "        'country': 'other',\n",
    "        'company': 0,\n",
    "        'agent': 0\n",
    "    }\n",
    "\n",
    "def replace_missing_values(df, replacer):\n",
    "    for col, value in replacer.items():\n",
    "        df[col] = df[col].fillna(value)"
   ]
  },
  {
   "cell_type": "markdown",
   "metadata": {
    "pycharm": {
     "name": "#%% md\n"
    }
   },
   "source": [
    "## Normalizacia numerickych atributov\n",
    "\n",
    "Numericke atributy normalizujeme do intervalu <0, 1>."
   ]
  },
  {
   "cell_type": "code",
   "execution_count": 43,
   "metadata": {
    "pycharm": {
     "name": "#%%\n"
    }
   },
   "outputs": [],
   "source": [
    "def get_numerical_normalizer(df, numerical_columns):\n",
    "    return {col: df[col].max(axis=0) for col in numerical_columns}\n",
    "\n",
    "def normalize_numerical_columns(df, normalizers):\n",
    "    for col, norm in normalizers.items():\n",
    "        df[col] = df[col] / norm"
   ]
  },
  {
   "cell_type": "markdown",
   "metadata": {
    "pycharm": {
     "name": "#%% md\n"
    }
   },
   "source": [
    "## Osetrenie vychylenych hodnot\n",
    "\n",
    "V numerickych stlpcoch osetrime vychylene hodnoty tak, ze prilis nizke hodnoty nahradime 5 percentilom a\n",
    "prilis vysoke hodnoty nahradime 95 percentilom. Hodnoty zaokruhlime na cele cisla, nakolko vo vacsine pripadov sa jedna\n",
    "o celociselne hodnoty, ako napriklad pocet ludi."
   ]
  },
  {
   "cell_type": "code",
   "execution_count": 44,
   "metadata": {
    "pycharm": {
     "name": "#%%\n"
    }
   },
   "outputs": [],
   "source": [
    "def get_outlier_replacer(df, numerical_columns):\n",
    "    replacer = {}\n",
    "    for col in numerical_columns:\n",
    "        replacer[col] = {\n",
    "            'upper_quantile': np.around(np.percentile(df[col], 95), decimals=0),\n",
    "            'upper_outlayer': 1.5*np.percentile(df[col], 75),\n",
    "            'lower_quantile': np.around(np.percentile(df[col], 5), decimals=0),\n",
    "            'lower_outlayer': .5*np.percentile(df[col], 25)\n",
    "        }\n",
    "    return replacer\n",
    "\n",
    "def replace_outliers(df, replacer):\n",
    "    for col, value in replacer.items():\n",
    "        df.loc[df[col] > value['upper_outlayer'], col] = value['upper_quantile']\n",
    "        df.loc[df[col] < value['lower_outlayer'], col] = value['lower_quantile']"
   ]
  },
  {
   "cell_type": "markdown",
   "metadata": {
    "pycharm": {
     "name": "#%% md\n"
    }
   },
   "source": [
    "## Pridanie atributu zachytavajuceho casovu postupnost\n",
    "\n",
    "Vytvorenie stĺpca, obsahujuceho kompletný dátum vo formáte rok-mesiac-deň."
   ]
  },
  {
   "cell_type": "code",
   "execution_count": 45,
   "metadata": {
    "pycharm": {
     "name": "#%%\n"
    }
   },
   "outputs": [],
   "source": [
    "def make_arrival_date_column(df):\n",
    "    cal = dict((v,k) for k,v in enumerate(calendar.month_name))\n",
    "    df['arrival_datetime'] = pd.to_datetime((df.arrival_date_year*10000+df.arrival_date_month.map(cal)*100+df.arrival_date_day_of_month).apply(str),format='%Y%m%d')"
   ]
  },
  {
   "cell_type": "markdown",
   "metadata": {},
   "source": [
    "## Ziskanie dat na predspracovanie datasetu\n",
    "\n",
    "Z trenovacej sady si vypocitame data potrebne na predspracovanie."
   ]
  },
  {
   "cell_type": "code",
   "execution_count": 46,
   "metadata": {
    "pycharm": {
     "name": "#%%\n"
    }
   },
   "outputs": [],
   "source": [
    "missing_value_replacer = get_missing_value_replacer(df_train)\n",
    "numerical_normalizer = get_numerical_normalizer(df_train, num_columns)\n",
    "outlier_replacer = get_outlier_replacer(df_train, num_columns)"
   ]
  },
  {
   "cell_type": "markdown",
   "metadata": {},
   "source": [
    "## Aplikovanie predspracovania datasetu\n",
    "\n",
    "Data ziskane z trenovacej sady pouzijeme na predspracovanie, ktore vykoname na trenovacej aj testovacej sade"
   ]
  },
  {
   "cell_type": "code",
   "execution_count": 47,
   "metadata": {
    "pycharm": {
     "name": "#%%\n"
    }
   },
   "outputs": [],
   "source": [
    "def preprocess(df, missing_value_replacer, numerical_normalizer, outlier_replacer):\n",
    "    df = drop_reservation_status(df)\n",
    "    replace_missing_values(df, missing_value_replacer)\n",
    "    normalize_numerical_columns(df, numerical_normalizer)\n",
    "    replace_outliers(df, outlier_replacer)\n",
    "    make_arrival_date_column(df)\n",
    "    return df"
   ]
  },
  {
   "cell_type": "code",
   "execution_count": 48,
   "metadata": {
    "collapsed": false,
    "jupyter": {
     "outputs_hidden": false
    },
    "pycharm": {
     "name": "#%%\n"
    }
   },
   "outputs": [],
   "source": [
    "df_train = preprocess(df_train, missing_value_replacer, numerical_normalizer, outlier_replacer)\n",
    "df_test = preprocess(df_test, missing_value_replacer, numerical_normalizer, outlier_replacer)"
   ]
  },
  {
   "cell_type": "markdown",
   "metadata": {},
   "source": [
    "## Zakodovanie kategorickych atributov\n",
    "\n",
    "Na zakodovanie kategorickych atributov pouzijeme one-hot encoding. Ten nafitujeme len na trenovacich datach\n",
    "a nasledne pouzijeme na trenovacej aj testovacej sade."
   ]
  },
  {
   "cell_type": "code",
   "execution_count": 49,
   "metadata": {
    "collapsed": false,
    "jupyter": {
     "outputs_hidden": false
    },
    "pycharm": {
     "name": "#%%\n"
    }
   },
   "outputs": [],
   "source": [
    "def get_one_hot_encoder(df, encoded_categorical_columns):\n",
    "    encoder = OneHotEncoder(handle_unknown='ignore')\n",
    "    encoder.fit(df[encoded_categorical_columns])\n",
    "    return encoder\n",
    "\n",
    "def one_hot_encode(df, encoder, columns):\n",
    "    encoded = pd.DataFrame(encoder.transform(df[encoded_cat_columns]).toarray())\n",
    "    df = df.join(encoded)\n",
    "    return df.drop(columns=columns)"
   ]
  },
  {
   "cell_type": "code",
   "execution_count": 50,
   "metadata": {
    "pycharm": {
     "name": "#%%\n"
    }
   },
   "outputs": [],
   "source": [
    "one_hot_encoder = get_one_hot_encoder(df_train, encoded_cat_columns)\n",
    "df_train = one_hot_encode(df_train, one_hot_encoder, encoded_cat_columns)\n",
    "df_test = one_hot_encode(df_test, one_hot_encoder, encoded_cat_columns)"
   ]
  },
  {
   "cell_type": "code",
   "execution_count": 51,
   "metadata": {
    "collapsed": false,
    "jupyter": {
     "outputs_hidden": false
    },
    "pycharm": {
     "name": "#%%\n"
    }
   },
   "outputs": [],
   "source": [
    "X_train = df_train.drop(columns=['is_canceled', 'reservation_status_date', 'arrival_datetime'])\n",
    "y_train = df_train['is_canceled']\n",
    "\n",
    "X_test = df_test.drop(columns=['is_canceled', 'reservation_status_date', 'arrival_datetime'])\n",
    "y_test = df_test['is_canceled']"
   ]
  },
  {
   "cell_type": "code",
   "execution_count": 54,
   "metadata": {},
   "outputs": [],
   "source": [
    "X_train.to_csv('data/X_train.csv', index=False)\n",
    "y_train.to_csv('data/y_train.csv', header=False)\n",
    "\n",
    "X_test.to_csv('data/X_test.csv', index=False)\n",
    "y_test.to_csv('data/y_test.csv', header=False)"
   ]
  },
  {
   "cell_type": "markdown",
   "metadata": {
    "pycharm": {
     "name": "#%% md\n"
    }
   },
   "source": [
    "## Feature selection\n",
    "\n",
    "Výber zaujímavých atribútov vykonáme pomocou metódy SelectFromModel z knižnice scikit learn.\n",
    "Ten natrénujeme na trénovacej sade s použitím rozhodovacieho stromu.\n",
    "Natrénovaný selector aplikujeme na trénovacie aj testovacie dáta."
   ]
  },
  {
   "cell_type": "code",
   "execution_count": 55,
   "metadata": {
    "collapsed": false,
    "jupyter": {
     "outputs_hidden": false
    },
    "pycharm": {
     "name": "#%%\n"
    }
   },
   "outputs": [],
   "source": [
    "selector = SelectFromModel(estimator=DecisionTreeClassifier()).fit(X_train, y_train)\n",
    "X_train = selector.transform(X_train)\n",
    "X_test = selector.transform(X_test)"
   ]
  },
  {
   "cell_type": "markdown",
   "metadata": {},
   "source": [
    "## Predikcia\n",
    "\n",
    "### a) Pomocou rozhodovacieho stromu."
   ]
  },
  {
   "cell_type": "code",
   "execution_count": null,
   "metadata": {
    "collapsed": false,
    "jupyter": {
     "outputs_hidden": false
    },
    "pycharm": {
     "name": "#%%\n"
    }
   },
   "outputs": [],
   "source": [
    "param_grid = {\"max_depth\": [None, 1, 2, 3],\n",
    "              \"max_leaf_nodes\": [None, 3, 5, 10],\n",
    "              \"min_samples_leaf\": [1, 2, 5, 10],\n",
    "              \"min_samples_split\": [2, 3, 5],\n",
    "              \"random_state\": [20, 30, 40, 50],\n",
    "              \"criterion\": [\"gini\", \"entropy\"],\n",
    "              \"splitter\": [\"best\", \"random\"],\n",
    "              \"class_weight\" : [\"balanced\"]\n",
    "              }\n",
    "\n",
    "scoring = {'accuracy': make_scorer(accuracy_score),\n",
    "          'f1': make_scorer(f1_score),\n",
    "          'precision': make_scorer(precision_score),\n",
    "          'recall': make_scorer(recall_score)}\n",
    "\n",
    "classifier = DecisionTreeClassifier()\n",
    "grid_search = GridSearchCV(classifier,\n",
    "                           param_grid=param_grid,\n",
    "                           scoring=scoring,\n",
    "                           refit='f1',\n",
    "                           n_jobs=-1,\n",
    "                           verbose=3,\n",
    "                           cv=7,\n",
    "                           return_train_score=True)\n",
    "\n",
    "grid_search.fit(X_train, y_train)\n",
    "predictions = grid_search.predict(X_test)\n",
    "\n",
    "pickle.dump( grid_search, open( \"dtree_grid_search.p\", \"wb\" ) )\n",
    "pickle.dump( predictions, open( \"dtree_predictions.p\", \"wb\" ) )"
   ]
  },
  {
   "cell_type": "markdown",
   "metadata": {},
   "source": [
    "### b) Pomocou knn"
   ]
  },
  {
   "cell_type": "code",
   "execution_count": null,
   "metadata": {
    "collapsed": false,
    "jupyter": {
     "outputs_hidden": false
    },
    "pycharm": {
     "name": "#%%\n"
    }
   },
   "outputs": [],
   "source": [
    "knn = KNeighborsClassifier()\n",
    "\n",
    "parameters = {'n_neighbors':[2,3,4,5,10]}\n",
    "\n",
    "scoring = {'accuracy': make_scorer(accuracy_score),\n",
    "          'f1': make_scorer(f1_score),\n",
    "          'precision': make_scorer(precision_score),\n",
    "          'recall': make_scorer(recall_score)}\n",
    "\n",
    "grid_search = GridSearchCV(knn,\n",
    "                     param_grid=parameters,\n",
    "                    scoring=scoring,\n",
    "                   refit='f1',\n",
    "                   n_jobs=-1,\n",
    "                   verbose=5,\n",
    "                   cv=7,\n",
    "                   return_train_score=True)\n",
    "\n",
    "grid_search.fit(X_train, y_train)\n",
    "predictions = grid_search.predict(X_test)\n",
    "\n",
    "pickle.dump( grid_search, open( \"knn_grid_search.p\", \"wb\" ) )\n",
    "pickle.dump( predictions, open( \"knn_predictions.p\", \"wb\" ) )"
   ]
  }
 ],
 "metadata": {
  "kernelspec": {
   "display_name": "Python 3",
   "language": "python",
   "name": "python3"
  },
  "language_info": {
   "codemirror_mode": {
    "name": "ipython",
    "version": 3
   },
   "file_extension": ".py",
   "mimetype": "text/x-python",
   "name": "python",
   "nbconvert_exporter": "python",
   "pygments_lexer": "ipython3",
   "version": "3.6.9"
  }
 },
 "nbformat": 4,
 "nbformat_minor": 4
}
